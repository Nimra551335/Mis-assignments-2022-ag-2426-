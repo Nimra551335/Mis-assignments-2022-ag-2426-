{
 "cells": [
  {
   "cell_type": "code",
   "execution_count": 3,
   "id": "1e7cd2d3",
   "metadata": {},
   "outputs": [
    {
     "name": "stdout",
     "output_type": "stream",
     "text": [
      "437.5\n"
     ]
    }
   ],
   "source": [
    "# variables names  initialization\n",
    "a=35.0\n",
    "b=12.50\n",
    "c=a*b\n",
    "print(c)"
   ]
  },
  {
   "cell_type": "code",
   "execution_count": 4,
   "id": "e12ad419",
   "metadata": {},
   "outputs": [
    {
     "name": "stdout",
     "output_type": "stream",
     "text": [
      "437.5\n"
     ]
    }
   ],
   "source": [
    "#mnemonic variables name initialization\n",
    "hours=35.0\n",
    "rate=12.50\n",
    "pay=hours*rate\n",
    "print(pay)"
   ]
  },
  {
   "cell_type": "code",
   "execution_count": 5,
   "id": "8bb965fd",
   "metadata": {},
   "outputs": [
    {
     "name": "stdout",
     "output_type": "stream",
     "text": [
      "4\n"
     ]
    }
   ],
   "source": [
    "#initialize numaric expression\n",
    "xx=2\n",
    "y=xx+2\n",
    "print(y)\n"
   ]
  },
  {
   "cell_type": "code",
   "execution_count": 11,
   "id": "1fe0f582",
   "metadata": {},
   "outputs": [
    {
     "name": "stdout",
     "output_type": "stream",
     "text": [
      "11.0\n"
     ]
    }
   ],
   "source": [
    "# how code assignment statments \n",
    "x=1+2**3/4*5\n",
    "print(x)"
   ]
  },
  {
   "cell_type": "code",
   "execution_count": 18,
   "id": "ca9e24cb",
   "metadata": {},
   "outputs": [
    {
     "data": {
      "text/plain": [
       "int"
      ]
     },
     "execution_count": 18,
     "metadata": {},
     "output_type": "execute_result"
    }
   ],
   "source": [
    " #how find type of variable \n",
    "xx=1\n",
    "type(xx)"
   ]
  },
  {
   "cell_type": "code",
   "execution_count": null,
   "id": "2b01a613",
   "metadata": {},
   "outputs": [],
   "source": [
    "# exercise program(computer gross pay by hour and rate per hour)\n",
    "hrs=input(\"Enter hours :\")\n",
    "rate=input(\"Enter rate per hour:\")\n",
    "pay= float(hrs)*float(rate)\n",
    "print (\"pay :\", pay)\n",
    "\n"
   ]
  },
  {
   "cell_type": "code",
   "execution_count": null,
   "id": "738b4cf3",
   "metadata": {},
   "outputs": [],
   "source": [
    "#converting user input \n",
    "inp=input('Europe floor?')\n",
    "usf= int(inp)+1\n",
    "print('usfloor',usf)"
   ]
  },
  {
   "cell_type": "raw",
   "id": "44ff9939",
   "metadata": {},
   "source": [
    "#how user input works \n",
    "nam=input('who are you?')\n",
    "print('welcome',nam)"
   ]
  },
  {
   "cell_type": "code",
   "execution_count": null,
   "id": "0584a340",
   "metadata": {},
   "outputs": [],
   "source": [
    "#interger division always answer in float\n",
    "print(10/2)"
   ]
  },
  {
   "cell_type": "code",
   "execution_count": null,
   "id": "0f881073",
   "metadata": {},
   "outputs": [],
   "source": [
    "#how type conversion works \n",
    "print (float(99)+100)"
   ]
  },
  {
   "cell_type": "code",
   "execution_count": 12,
   "id": "e5ad05e1",
   "metadata": {},
   "outputs": [
    {
     "name": "stdout",
     "output_type": "stream",
     "text": [
      "5\n"
     ]
    }
   ],
   "source": [
    "#example of numaric expression\n",
    "ddd=1+4\n",
    "print(dd)"
   ]
  }
 ],
 "metadata": {
  "kernelspec": {
   "display_name": "Python 3 (ipykernel)",
   "language": "python",
   "name": "python3"
  },
  "language_info": {
   "codemirror_mode": {
    "name": "ipython",
    "version": 3
   },
   "file_extension": ".py",
   "mimetype": "text/x-python",
   "name": "python",
   "nbconvert_exporter": "python",
   "pygments_lexer": "ipython3",
   "version": "3.11.4"
  }
 },
 "nbformat": 4,
 "nbformat_minor": 5
}
